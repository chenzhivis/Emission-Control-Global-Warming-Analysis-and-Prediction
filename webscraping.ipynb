{
 "cells": [
  {
   "cell_type": "markdown",
   "metadata": {},
   "source": [
    "### The content of this notebook is for web scraping the historical world population data, as well as population by various demographic indicators, the data is from www.johnstonsarchive.net"
   ]
  },
  {
   "cell_type": "code",
   "execution_count": 1,
   "metadata": {},
   "outputs": [],
   "source": [
    "import requests\n",
    "from bs4 import BeautifulSoup\n",
    "import pandas as pd\n",
    "import numpy as np"
   ]
  },
  {
   "cell_type": "code",
   "execution_count": 2,
   "metadata": {},
   "outputs": [],
   "source": [
    "url = 'http://www.johnstonsarchive.net/other/worldpop.html'\n",
    "req = requests.get(url)\n",
    "soup = BeautifulSoup(req.content, 'html.parser')\n",
    "soup = soup.find_all('tr')"
   ]
  },
  {
   "cell_type": "code",
   "execution_count": 5,
   "metadata": {},
   "outputs": [
    {
     "data": {
      "text/plain": [
       "433"
      ]
     },
     "execution_count": 5,
     "metadata": {},
     "output_type": "execute_result"
    }
   ],
   "source": [
    "len(soup)"
   ]
  },
  {
   "cell_type": "code",
   "execution_count": 7,
   "metadata": {},
   "outputs": [],
   "source": [
    "list1 = []\n",
    "for i in soup:\n",
    "    list2 = []\n",
    "    for j in i.find_all('td'):\n",
    "        textnow = j.text\n",
    "        list2.append(textnow)\n",
    "    list1.append(list2)"
   ]
  },
  {
   "cell_type": "code",
   "execution_count": 12,
   "metadata": {},
   "outputs": [
    {
     "name": "stdout",
     "output_type": "stream",
     "text": [
      "45\n",
      "110\n"
     ]
    }
   ],
   "source": [
    "# check the index of the year from 1950 to now for basic population\n",
    "print(list1.index(['1950','2,525.779','228.827','1,395.749','549.043','167.869','171.615','12.675']))\n",
    "print(list1.index(['2015','7,324.782','1,166.239','4,384.844','743.123','630.089','361.128','39.359']))"
   ]
  },
  {
   "cell_type": "code",
   "execution_count": 14,
   "metadata": {
    "scrolled": true
   },
   "outputs": [
    {
     "data": {
      "text/html": [
       "<div>\n",
       "<style scoped>\n",
       "    .dataframe tbody tr th:only-of-type {\n",
       "        vertical-align: middle;\n",
       "    }\n",
       "\n",
       "    .dataframe tbody tr th {\n",
       "        vertical-align: top;\n",
       "    }\n",
       "\n",
       "    .dataframe thead th {\n",
       "        text-align: right;\n",
       "    }\n",
       "</style>\n",
       "<table border=\"1\" class=\"dataframe\">\n",
       "  <thead>\n",
       "    <tr style=\"text-align: right;\">\n",
       "      <th></th>\n",
       "      <th>year</th>\n",
       "      <th>world</th>\n",
       "      <th>Africa</th>\n",
       "      <th>Asia</th>\n",
       "      <th>Europe</th>\n",
       "      <th>LatinAmerica</th>\n",
       "      <th>NorthAmerica</th>\n",
       "      <th>Austr/Oceania</th>\n",
       "    </tr>\n",
       "  </thead>\n",
       "  <tbody>\n",
       "    <tr>\n",
       "      <th>0</th>\n",
       "      <td>1950</td>\n",
       "      <td>2,525.779</td>\n",
       "      <td>228.827</td>\n",
       "      <td>1,395.749</td>\n",
       "      <td>549.043</td>\n",
       "      <td>167.869</td>\n",
       "      <td>171.615</td>\n",
       "      <td>12.675</td>\n",
       "    </tr>\n",
       "    <tr>\n",
       "      <th>1</th>\n",
       "      <td>1951</td>\n",
       "      <td>2,572.851</td>\n",
       "      <td>233.364</td>\n",
       "      <td>1,425.762</td>\n",
       "      <td>554.239</td>\n",
       "      <td>172.397</td>\n",
       "      <td>174.093</td>\n",
       "      <td>12.996</td>\n",
       "    </tr>\n",
       "    <tr>\n",
       "      <th>2</th>\n",
       "      <td>1952</td>\n",
       "      <td>2,619.292</td>\n",
       "      <td>238.148</td>\n",
       "      <td>1,454.049</td>\n",
       "      <td>559.756</td>\n",
       "      <td>177.134</td>\n",
       "      <td>176.911</td>\n",
       "      <td>13.294</td>\n",
       "    </tr>\n",
       "    <tr>\n",
       "      <th>3</th>\n",
       "      <td>1953</td>\n",
       "      <td>2,665.865</td>\n",
       "      <td>243.18</td>\n",
       "      <td>1,481.619</td>\n",
       "      <td>565.441</td>\n",
       "      <td>182.042</td>\n",
       "      <td>180.001</td>\n",
       "      <td>13.582</td>\n",
       "    </tr>\n",
       "    <tr>\n",
       "      <th>4</th>\n",
       "      <td>1954</td>\n",
       "      <td>2,713.172</td>\n",
       "      <td>248.46</td>\n",
       "      <td>1,509.265</td>\n",
       "      <td>571.184</td>\n",
       "      <td>187.092</td>\n",
       "      <td>183.299</td>\n",
       "      <td>13.871</td>\n",
       "    </tr>\n",
       "  </tbody>\n",
       "</table>\n",
       "</div>"
      ],
      "text/plain": [
       "   year      world   Africa       Asia   Europe LatinAmerica NorthAmerica  \\\n",
       "0  1950  2,525.779  228.827  1,395.749  549.043      167.869      171.615   \n",
       "1  1951  2,572.851  233.364  1,425.762  554.239      172.397      174.093   \n",
       "2  1952  2,619.292  238.148  1,454.049  559.756      177.134      176.911   \n",
       "3  1953  2,665.865   243.18  1,481.619  565.441      182.042      180.001   \n",
       "4  1954  2,713.172   248.46  1,509.265  571.184      187.092      183.299   \n",
       "\n",
       "  Austr/Oceania  \n",
       "0        12.675  \n",
       "1        12.996  \n",
       "2        13.294  \n",
       "3        13.582  \n",
       "4        13.871  "
      ]
     },
     "execution_count": 14,
     "metadata": {},
     "output_type": "execute_result"
    }
   ],
   "source": [
    "df_pop = pd.DataFrame(list1[45:111],columns=['year','world','Africa','Asia','Europe','LatinAmerica',\n",
    "                                             'NorthAmerica','Austr/Oceania'])\n",
    "df_pop.head()"
   ]
  },
  {
   "cell_type": "code",
   "execution_count": 16,
   "metadata": {},
   "outputs": [
    {
     "name": "stdout",
     "output_type": "stream",
     "text": [
      "368\n",
      "432\n"
     ]
    }
   ],
   "source": [
    "# check the index of the year from 1950 to now for urban and rural\n",
    "print(list1.index(['1950','743.596','1,782.183','812.943','1,712.836','854.187','11.297','\\xa0','\\xa0','\\xa0','\\xa0']))\n",
    "print(list1.index(['2014','\\xa0','\\xa0','\\xa0','\\xa0','\\xa0','\\xa0','2,375.619','1,219.952','441.444','1,660.729']))"
   ]
  },
  {
   "cell_type": "code",
   "execution_count": 20,
   "metadata": {},
   "outputs": [
    {
     "data": {
      "text/html": [
       "<div>\n",
       "<style scoped>\n",
       "    .dataframe tbody tr th:only-of-type {\n",
       "        vertical-align: middle;\n",
       "    }\n",
       "\n",
       "    .dataframe tbody tr th {\n",
       "        vertical-align: top;\n",
       "    }\n",
       "\n",
       "    .dataframe thead th {\n",
       "        text-align: right;\n",
       "    }\n",
       "</style>\n",
       "<table border=\"1\" class=\"dataframe\">\n",
       "  <thead>\n",
       "    <tr style=\"text-align: right;\">\n",
       "      <th></th>\n",
       "      <th>year</th>\n",
       "      <th>urban</th>\n",
       "      <th>rural</th>\n",
       "      <th>developed</th>\n",
       "      <th>developing</th>\n",
       "      <th>communist</th>\n",
       "      <th>Jewish</th>\n",
       "      <th>Christian</th>\n",
       "      <th>Catholic</th>\n",
       "      <th>Protestant</th>\n",
       "      <th>Muslim</th>\n",
       "    </tr>\n",
       "  </thead>\n",
       "  <tbody>\n",
       "    <tr>\n",
       "      <th>0</th>\n",
       "      <td>1950</td>\n",
       "      <td>743.596</td>\n",
       "      <td>1,782.183</td>\n",
       "      <td>812.943</td>\n",
       "      <td>1,712.836</td>\n",
       "      <td>854.187</td>\n",
       "      <td>11.297</td>\n",
       "      <td></td>\n",
       "      <td></td>\n",
       "      <td></td>\n",
       "      <td></td>\n",
       "    </tr>\n",
       "    <tr>\n",
       "      <th>1</th>\n",
       "      <td>1951</td>\n",
       "      <td>767.146</td>\n",
       "      <td>1,805.705</td>\n",
       "      <td>822.492</td>\n",
       "      <td>1,750.359</td>\n",
       "      <td>873.141</td>\n",
       "      <td></td>\n",
       "      <td></td>\n",
       "      <td></td>\n",
       "      <td></td>\n",
       "      <td></td>\n",
       "    </tr>\n",
       "    <tr>\n",
       "      <th>2</th>\n",
       "      <td>1952</td>\n",
       "      <td>790.999</td>\n",
       "      <td>1,828.293</td>\n",
       "      <td>832.462</td>\n",
       "      <td>1,786.831</td>\n",
       "      <td>889.872</td>\n",
       "      <td></td>\n",
       "      <td></td>\n",
       "      <td></td>\n",
       "      <td></td>\n",
       "      <td></td>\n",
       "    </tr>\n",
       "    <tr>\n",
       "      <th>3</th>\n",
       "      <td>1953</td>\n",
       "      <td>815.799</td>\n",
       "      <td>1,850.066</td>\n",
       "      <td>842.683</td>\n",
       "      <td>1,823.183</td>\n",
       "      <td>905.136</td>\n",
       "      <td></td>\n",
       "      <td></td>\n",
       "      <td></td>\n",
       "      <td></td>\n",
       "      <td></td>\n",
       "    </tr>\n",
       "    <tr>\n",
       "      <th>4</th>\n",
       "      <td>1954</td>\n",
       "      <td>841.618</td>\n",
       "      <td>1,871.554</td>\n",
       "      <td>853.025</td>\n",
       "      <td>1,860.147</td>\n",
       "      <td>919.799</td>\n",
       "      <td></td>\n",
       "      <td></td>\n",
       "      <td></td>\n",
       "      <td></td>\n",
       "      <td></td>\n",
       "    </tr>\n",
       "  </tbody>\n",
       "</table>\n",
       "</div>"
      ],
      "text/plain": [
       "   year    urban      rural developed developing communist  Jewish Christian  \\\n",
       "0  1950  743.596  1,782.183   812.943  1,712.836   854.187  11.297             \n",
       "1  1951  767.146  1,805.705   822.492  1,750.359   873.141                     \n",
       "2  1952  790.999  1,828.293   832.462  1,786.831   889.872                     \n",
       "3  1953  815.799  1,850.066   842.683  1,823.183   905.136                     \n",
       "4  1954  841.618  1,871.554   853.025  1,860.147   919.799                     \n",
       "\n",
       "  Catholic Protestant Muslim  \n",
       "0                             \n",
       "1                             \n",
       "2                             \n",
       "3                             \n",
       "4                             "
      ]
     },
     "execution_count": 20,
     "metadata": {},
     "output_type": "execute_result"
    }
   ],
   "source": [
    "df_ur = pd.DataFrame(list1[368:],columns=['year','urban','rural','developed','developing','communist','Jewish',\n",
    "                                          'Christian','Catholic','Protestant','Muslim'])\n",
    "df_ur.head()"
   ]
  },
  {
   "cell_type": "code",
   "execution_count": 21,
   "metadata": {},
   "outputs": [],
   "source": [
    "# save the data to .csv file for project use\n",
    "df_pop.to_csv('pop.csv')\n",
    "df_ur.to_csv('ur.csv')"
   ]
  },
  {
   "cell_type": "code",
   "execution_count": null,
   "metadata": {},
   "outputs": [],
   "source": []
  }
 ],
 "metadata": {
  "kernelspec": {
   "display_name": "Python 3",
   "language": "python",
   "name": "python3"
  },
  "language_info": {
   "codemirror_mode": {
    "name": "ipython",
    "version": 3
   },
   "file_extension": ".py",
   "mimetype": "text/x-python",
   "name": "python",
   "nbconvert_exporter": "python",
   "pygments_lexer": "ipython3",
   "version": "3.8.5"
  }
 },
 "nbformat": 4,
 "nbformat_minor": 4
}
